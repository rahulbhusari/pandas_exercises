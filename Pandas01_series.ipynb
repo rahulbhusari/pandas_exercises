{
  "nbformat": 4,
  "nbformat_minor": 0,
  "metadata": {
    "colab": {
      "provenance": [],
      "authorship_tag": "ABX9TyOa1Jf0szZha8+u0TwkH27m",
      "include_colab_link": true
    },
    "kernelspec": {
      "name": "python3",
      "display_name": "Python 3"
    },
    "language_info": {
      "name": "python"
    }
  },
  "cells": [
    {
      "cell_type": "markdown",
      "metadata": {
        "id": "view-in-github",
        "colab_type": "text"
      },
      "source": [
        "<a href=\"https://colab.research.google.com/github/rahulbhusari/pandas_exercises/blob/master/Pandas01_series.ipynb\" target=\"_parent\"><img src=\"https://colab.research.google.com/assets/colab-badge.svg\" alt=\"Open In Colab\"/></a>"
      ]
    },
    {
      "cell_type": "code",
      "execution_count": 12,
      "metadata": {
        "colab": {
          "base_uri": "https://localhost:8080/"
        },
        "id": "FrZABAAsGeTF",
        "outputId": "e3ce7680-2e1a-4ead-b429-5dfe92dc5d5c"
      },
      "outputs": [
        {
          "output_type": "stream",
          "name": "stdout",
          "text": [
            "one      1\n",
            "two      2\n",
            "three    3\n",
            "four     4\n",
            "dtype: int64\n"
          ]
        }
      ],
      "source": [
        "import pandas as pd\n",
        "import numpy as np\n",
        "\n",
        "list =  [1,2,3,4]\n",
        "list1 =  [1,2,3,4,'five',0.2]\n",
        "list2 =  [1,2,3,4]\n",
        "index1 =['one','two','three','four']\n",
        "# Seriesfromlit = pd.Series(list)\n",
        "Seriesfromlit = pd.Series(list, index = index1 )  ## one dimensional array its same like single column within data frame or tables we can also put our own index as well \n",
        "print(Seriesfromlit)\n",
        "\n",
        "\n"
      ]
    },
    {
      "cell_type": "code",
      "source": [
        "## series from dict\n",
        "dict = {1:\"blake\",2:\"mayur\", 3: \"ganesh\"}\n",
        "seriesfromdict = pd.Series(dict)\n",
        "print(seriesfromdict)\n",
        "for num, item in enumerate(seriesfromdict): ## yes afcourse we can iterate through series \n",
        "    print( '{', num+1, ':', item, '}' )"
      ],
      "metadata": {
        "colab": {
          "base_uri": "https://localhost:8080/"
        },
        "id": "BPR5atDbIxVD",
        "outputId": "eae34fda-cf0f-4dbe-fb0a-9a26a2bd8a5f"
      },
      "execution_count": 20,
      "outputs": [
        {
          "output_type": "stream",
          "name": "stdout",
          "text": [
            "1     blake\n",
            "2     mayur\n",
            "3    ganesh\n",
            "dtype: object\n",
            "{ 1 : blake }\n",
            "{ 2 : mayur }\n",
            "{ 3 : ganesh }\n"
          ]
        }
      ]
    },
    {
      "cell_type": "code",
      "source": [
        "## series from numpy array \n",
        "\n",
        "a =  np.random.power([14,12,13,14])\n",
        "a_series = pd.Series(a)\n",
        "print(a_series)"
      ],
      "metadata": {
        "colab": {
          "base_uri": "https://localhost:8080/"
        },
        "id": "9rYWxWDdLADL",
        "outputId": "aac12702-5b29-467f-e428-5de930ff81a3"
      },
      "execution_count": 26,
      "outputs": [
        {
          "output_type": "stream",
          "name": "stdout",
          "text": [
            "0    0.879505\n",
            "1    0.998537\n",
            "2    0.960291\n",
            "3    0.985827\n",
            "dtype: float64\n"
          ]
        }
      ]
    }
  ]
}